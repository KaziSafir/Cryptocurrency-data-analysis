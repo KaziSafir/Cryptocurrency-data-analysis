{
 "cells": [
  {
   "cell_type": "code",
   "execution_count": 1,
   "id": "28a48b61",
   "metadata": {},
   "outputs": [],
   "source": [
    "import numpy as np#linear algebra\n",
    "import pandas as pd#data processing\n",
    "import matplotlib.pyplot as plt#for data visulization\n",
    "import seaborn as sns#for statistical data visualization\n",
    "from sklearn.preprocessing import LabelEncoder\n",
    "from sklearn.cluster import KMeans"
   ]
  },
  {
   "cell_type": "code",
   "execution_count": 2,
   "id": "05c215c4",
   "metadata": {},
   "outputs": [
    {
     "data": {
      "text/html": [
       "<div>\n",
       "<style scoped>\n",
       "    .dataframe tbody tr th:only-of-type {\n",
       "        vertical-align: middle;\n",
       "    }\n",
       "\n",
       "    .dataframe tbody tr th {\n",
       "        vertical-align: top;\n",
       "    }\n",
       "\n",
       "    .dataframe thead th {\n",
       "        text-align: right;\n",
       "    }\n",
       "</style>\n",
       "<table border=\"1\" class=\"dataframe\">\n",
       "  <thead>\n",
       "    <tr style=\"text-align: right;\">\n",
       "      <th></th>\n",
       "      <th>slug</th>\n",
       "      <th>symbol</th>\n",
       "      <th>name</th>\n",
       "      <th>date</th>\n",
       "      <th>ranknow</th>\n",
       "      <th>open</th>\n",
       "      <th>high</th>\n",
       "      <th>low</th>\n",
       "      <th>close</th>\n",
       "      <th>volume</th>\n",
       "      <th>market</th>\n",
       "      <th>close_ratio</th>\n",
       "      <th>spread</th>\n",
       "    </tr>\n",
       "  </thead>\n",
       "  <tbody>\n",
       "    <tr>\n",
       "      <th>0</th>\n",
       "      <td>bitcoin</td>\n",
       "      <td>BTC</td>\n",
       "      <td>Bitcoin</td>\n",
       "      <td>4/28/2013</td>\n",
       "      <td>1</td>\n",
       "      <td>135.30</td>\n",
       "      <td>135.98</td>\n",
       "      <td>132.10</td>\n",
       "      <td>134.21</td>\n",
       "      <td>0.0</td>\n",
       "      <td>1.488567e+09</td>\n",
       "      <td>0.5438</td>\n",
       "      <td>3.88</td>\n",
       "    </tr>\n",
       "    <tr>\n",
       "      <th>1</th>\n",
       "      <td>bitcoin</td>\n",
       "      <td>BTC</td>\n",
       "      <td>Bitcoin</td>\n",
       "      <td>4/29/2013</td>\n",
       "      <td>1</td>\n",
       "      <td>134.44</td>\n",
       "      <td>147.49</td>\n",
       "      <td>134.00</td>\n",
       "      <td>144.54</td>\n",
       "      <td>0.0</td>\n",
       "      <td>1.603769e+09</td>\n",
       "      <td>0.7813</td>\n",
       "      <td>13.49</td>\n",
       "    </tr>\n",
       "    <tr>\n",
       "      <th>2</th>\n",
       "      <td>bitcoin</td>\n",
       "      <td>BTC</td>\n",
       "      <td>Bitcoin</td>\n",
       "      <td>4/30/2013</td>\n",
       "      <td>1</td>\n",
       "      <td>144.00</td>\n",
       "      <td>146.93</td>\n",
       "      <td>134.05</td>\n",
       "      <td>139.00</td>\n",
       "      <td>0.0</td>\n",
       "      <td>1.542813e+09</td>\n",
       "      <td>0.3843</td>\n",
       "      <td>12.88</td>\n",
       "    </tr>\n",
       "    <tr>\n",
       "      <th>3</th>\n",
       "      <td>bitcoin</td>\n",
       "      <td>BTC</td>\n",
       "      <td>Bitcoin</td>\n",
       "      <td>5/1/2013</td>\n",
       "      <td>1</td>\n",
       "      <td>139.00</td>\n",
       "      <td>139.89</td>\n",
       "      <td>107.72</td>\n",
       "      <td>116.99</td>\n",
       "      <td>0.0</td>\n",
       "      <td>1.298955e+09</td>\n",
       "      <td>0.2882</td>\n",
       "      <td>32.17</td>\n",
       "    </tr>\n",
       "    <tr>\n",
       "      <th>4</th>\n",
       "      <td>bitcoin</td>\n",
       "      <td>BTC</td>\n",
       "      <td>Bitcoin</td>\n",
       "      <td>5/2/2013</td>\n",
       "      <td>1</td>\n",
       "      <td>116.38</td>\n",
       "      <td>125.60</td>\n",
       "      <td>92.28</td>\n",
       "      <td>105.21</td>\n",
       "      <td>0.0</td>\n",
       "      <td>1.168517e+09</td>\n",
       "      <td>0.3881</td>\n",
       "      <td>33.32</td>\n",
       "    </tr>\n",
       "    <tr>\n",
       "      <th>...</th>\n",
       "      <td>...</td>\n",
       "      <td>...</td>\n",
       "      <td>...</td>\n",
       "      <td>...</td>\n",
       "      <td>...</td>\n",
       "      <td>...</td>\n",
       "      <td>...</td>\n",
       "      <td>...</td>\n",
       "      <td>...</td>\n",
       "      <td>...</td>\n",
       "      <td>...</td>\n",
       "      <td>...</td>\n",
       "      <td>...</td>\n",
       "    </tr>\n",
       "    <tr>\n",
       "      <th>942292</th>\n",
       "      <td>project-x</td>\n",
       "      <td>NANOX</td>\n",
       "      <td>Project-X</td>\n",
       "      <td>11/26/2018</td>\n",
       "      <td>1727</td>\n",
       "      <td>22424.60</td>\n",
       "      <td>23049.30</td>\n",
       "      <td>17607.50</td>\n",
       "      <td>20724.80</td>\n",
       "      <td>143.0</td>\n",
       "      <td>1.622000e+03</td>\n",
       "      <td>0.5728</td>\n",
       "      <td>5441.80</td>\n",
       "    </tr>\n",
       "    <tr>\n",
       "      <th>942293</th>\n",
       "      <td>project-x</td>\n",
       "      <td>NANOX</td>\n",
       "      <td>Project-X</td>\n",
       "      <td>11/27/2018</td>\n",
       "      <td>1727</td>\n",
       "      <td>20711.90</td>\n",
       "      <td>23742.10</td>\n",
       "      <td>19292.90</td>\n",
       "      <td>23298.70</td>\n",
       "      <td>637.0</td>\n",
       "      <td>1.823000e+03</td>\n",
       "      <td>0.9003</td>\n",
       "      <td>4449.20</td>\n",
       "    </tr>\n",
       "    <tr>\n",
       "      <th>942294</th>\n",
       "      <td>project-x</td>\n",
       "      <td>NANOX</td>\n",
       "      <td>Project-X</td>\n",
       "      <td>11/28/2018</td>\n",
       "      <td>1727</td>\n",
       "      <td>23320.90</td>\n",
       "      <td>25235.10</td>\n",
       "      <td>19888.10</td>\n",
       "      <td>24442.70</td>\n",
       "      <td>49.0</td>\n",
       "      <td>1.913000e+03</td>\n",
       "      <td>0.8518</td>\n",
       "      <td>5347.00</td>\n",
       "    </tr>\n",
       "    <tr>\n",
       "      <th>942295</th>\n",
       "      <td>project-x</td>\n",
       "      <td>NANOX</td>\n",
       "      <td>Project-X</td>\n",
       "      <td>11/29/2018</td>\n",
       "      <td>1727</td>\n",
       "      <td>24543.53</td>\n",
       "      <td>24582.47</td>\n",
       "      <td>21457.95</td>\n",
       "      <td>22839.44</td>\n",
       "      <td>153.0</td>\n",
       "      <td>1.788000e+03</td>\n",
       "      <td>0.4421</td>\n",
       "      <td>3124.52</td>\n",
       "    </tr>\n",
       "    <tr>\n",
       "      <th>942296</th>\n",
       "      <td>project-x</td>\n",
       "      <td>NANOX</td>\n",
       "      <td>Project-X</td>\n",
       "      <td>11/30/2018</td>\n",
       "      <td>1727</td>\n",
       "      <td>22872.09</td>\n",
       "      <td>23086.98</td>\n",
       "      <td>19040.91</td>\n",
       "      <td>21136.72</td>\n",
       "      <td>125.0</td>\n",
       "      <td>1.654000e+03</td>\n",
       "      <td>0.5180</td>\n",
       "      <td>4046.07</td>\n",
       "    </tr>\n",
       "  </tbody>\n",
       "</table>\n",
       "<p>942297 rows × 13 columns</p>\n",
       "</div>"
      ],
      "text/plain": [
       "             slug symbol       name        date  ranknow      open      high  \\\n",
       "0         bitcoin    BTC    Bitcoin   4/28/2013        1    135.30    135.98   \n",
       "1         bitcoin    BTC    Bitcoin   4/29/2013        1    134.44    147.49   \n",
       "2         bitcoin    BTC    Bitcoin   4/30/2013        1    144.00    146.93   \n",
       "3         bitcoin    BTC    Bitcoin    5/1/2013        1    139.00    139.89   \n",
       "4         bitcoin    BTC    Bitcoin    5/2/2013        1    116.38    125.60   \n",
       "...           ...    ...        ...         ...      ...       ...       ...   \n",
       "942292  project-x  NANOX  Project-X  11/26/2018     1727  22424.60  23049.30   \n",
       "942293  project-x  NANOX  Project-X  11/27/2018     1727  20711.90  23742.10   \n",
       "942294  project-x  NANOX  Project-X  11/28/2018     1727  23320.90  25235.10   \n",
       "942295  project-x  NANOX  Project-X  11/29/2018     1727  24543.53  24582.47   \n",
       "942296  project-x  NANOX  Project-X  11/30/2018     1727  22872.09  23086.98   \n",
       "\n",
       "             low     close  volume        market  close_ratio   spread  \n",
       "0         132.10    134.21     0.0  1.488567e+09       0.5438     3.88  \n",
       "1         134.00    144.54     0.0  1.603769e+09       0.7813    13.49  \n",
       "2         134.05    139.00     0.0  1.542813e+09       0.3843    12.88  \n",
       "3         107.72    116.99     0.0  1.298955e+09       0.2882    32.17  \n",
       "4          92.28    105.21     0.0  1.168517e+09       0.3881    33.32  \n",
       "...          ...       ...     ...           ...          ...      ...  \n",
       "942292  17607.50  20724.80   143.0  1.622000e+03       0.5728  5441.80  \n",
       "942293  19292.90  23298.70   637.0  1.823000e+03       0.9003  4449.20  \n",
       "942294  19888.10  24442.70    49.0  1.913000e+03       0.8518  5347.00  \n",
       "942295  21457.95  22839.44   153.0  1.788000e+03       0.4421  3124.52  \n",
       "942296  19040.91  21136.72   125.0  1.654000e+03       0.5180  4046.07  \n",
       "\n",
       "[942297 rows x 13 columns]"
      ]
     },
     "execution_count": 2,
     "metadata": {},
     "output_type": "execute_result"
    }
   ],
   "source": [
    "data = 'cryptocurrency.csv' #getting data from the csv file\n",
    "df = pd.read_csv(data) #defining the data as df\n",
    "df"
   ]
  },
  {
   "cell_type": "code",
   "execution_count": 3,
   "id": "fb2e205b",
   "metadata": {},
   "outputs": [
    {
     "data": {
      "text/plain": [
       "(942297, 13)"
      ]
     },
     "execution_count": 3,
     "metadata": {},
     "output_type": "execute_result"
    }
   ],
   "source": [
    "df.shape #rows and colums"
   ]
  },
  {
   "cell_type": "code",
   "execution_count": 4,
   "id": "c53f6e3c",
   "metadata": {},
   "outputs": [
    {
     "name": "stdout",
     "output_type": "stream",
     "text": [
      "<class 'pandas.core.frame.DataFrame'>\n",
      "RangeIndex: 942297 entries, 0 to 942296\n",
      "Data columns (total 13 columns):\n",
      " #   Column       Non-Null Count   Dtype  \n",
      "---  ------       --------------   -----  \n",
      " 0   slug         942297 non-null  object \n",
      " 1   symbol       942297 non-null  object \n",
      " 2   name         942297 non-null  object \n",
      " 3   date         942297 non-null  object \n",
      " 4   ranknow      942297 non-null  int64  \n",
      " 5   open         942297 non-null  float64\n",
      " 6   high         942297 non-null  float64\n",
      " 7   low          942297 non-null  float64\n",
      " 8   close        942297 non-null  float64\n",
      " 9   volume       942297 non-null  float64\n",
      " 10  market       942297 non-null  float64\n",
      " 11  close_ratio  942297 non-null  float64\n",
      " 12  spread       942297 non-null  float64\n",
      "dtypes: float64(8), int64(1), object(4)\n",
      "memory usage: 93.5+ MB\n"
     ]
    }
   ],
   "source": [
    "df.info()#provides us with the information of the datatypes or colums"
   ]
  },
  {
   "cell_type": "code",
   "execution_count": 5,
   "id": "c4edcbcb",
   "metadata": {},
   "outputs": [
    {
     "data": {
      "text/plain": [
       "slug           0\n",
       "symbol         0\n",
       "name           0\n",
       "date           0\n",
       "ranknow        0\n",
       "open           0\n",
       "high           0\n",
       "low            0\n",
       "close          0\n",
       "volume         0\n",
       "market         0\n",
       "close_ratio    0\n",
       "spread         0\n",
       "dtype: int64"
      ]
     },
     "execution_count": 5,
     "metadata": {},
     "output_type": "execute_result"
    }
   ],
   "source": [
    "df.isnull().sum()#provides with info from which colums the values missing"
   ]
  },
  {
   "cell_type": "code",
   "execution_count": 6,
   "id": "549642a2",
   "metadata": {},
   "outputs": [
    {
     "data": {
      "text/html": [
       "<div>\n",
       "<style scoped>\n",
       "    .dataframe tbody tr th:only-of-type {\n",
       "        vertical-align: middle;\n",
       "    }\n",
       "\n",
       "    .dataframe tbody tr th {\n",
       "        vertical-align: top;\n",
       "    }\n",
       "\n",
       "    .dataframe thead th {\n",
       "        text-align: right;\n",
       "    }\n",
       "</style>\n",
       "<table border=\"1\" class=\"dataframe\">\n",
       "  <thead>\n",
       "    <tr style=\"text-align: right;\">\n",
       "      <th></th>\n",
       "      <th>ranknow</th>\n",
       "      <th>open</th>\n",
       "      <th>high</th>\n",
       "      <th>low</th>\n",
       "      <th>close</th>\n",
       "      <th>volume</th>\n",
       "      <th>market</th>\n",
       "      <th>close_ratio</th>\n",
       "      <th>spread</th>\n",
       "    </tr>\n",
       "  </thead>\n",
       "  <tbody>\n",
       "    <tr>\n",
       "      <th>count</th>\n",
       "      <td>942297.000000</td>\n",
       "      <td>9.422970e+05</td>\n",
       "      <td>9.422970e+05</td>\n",
       "      <td>9.422970e+05</td>\n",
       "      <td>9.422970e+05</td>\n",
       "      <td>9.422970e+05</td>\n",
       "      <td>9.422970e+05</td>\n",
       "      <td>942297.000000</td>\n",
       "      <td>9.422970e+05</td>\n",
       "    </tr>\n",
       "    <tr>\n",
       "      <th>mean</th>\n",
       "      <td>1000.170608</td>\n",
       "      <td>3.483522e+02</td>\n",
       "      <td>4.085930e+02</td>\n",
       "      <td>2.962526e+02</td>\n",
       "      <td>3.461018e+02</td>\n",
       "      <td>8.720390e+06</td>\n",
       "      <td>1.725060e+08</td>\n",
       "      <td>0.459499</td>\n",
       "      <td>1.123400e+02</td>\n",
       "    </tr>\n",
       "    <tr>\n",
       "      <th>std</th>\n",
       "      <td>587.575283</td>\n",
       "      <td>1.318436e+04</td>\n",
       "      <td>1.616386e+04</td>\n",
       "      <td>1.092931e+04</td>\n",
       "      <td>1.309822e+04</td>\n",
       "      <td>1.839803e+08</td>\n",
       "      <td>3.575590e+09</td>\n",
       "      <td>0.326160</td>\n",
       "      <td>6.783713e+03</td>\n",
       "    </tr>\n",
       "    <tr>\n",
       "      <th>min</th>\n",
       "      <td>1.000000</td>\n",
       "      <td>2.500000e-09</td>\n",
       "      <td>3.200000e-09</td>\n",
       "      <td>2.500000e-10</td>\n",
       "      <td>2.000000e-10</td>\n",
       "      <td>0.000000e+00</td>\n",
       "      <td>0.000000e+00</td>\n",
       "      <td>-1.000000</td>\n",
       "      <td>0.000000e+00</td>\n",
       "    </tr>\n",
       "    <tr>\n",
       "      <th>25%</th>\n",
       "      <td>465.000000</td>\n",
       "      <td>2.321000e-03</td>\n",
       "      <td>2.628000e-03</td>\n",
       "      <td>2.044000e-03</td>\n",
       "      <td>2.314000e-03</td>\n",
       "      <td>1.750000e+02</td>\n",
       "      <td>2.958100e+04</td>\n",
       "      <td>0.162900</td>\n",
       "      <td>0.000000e+00</td>\n",
       "    </tr>\n",
       "    <tr>\n",
       "      <th>50%</th>\n",
       "      <td>1072.000000</td>\n",
       "      <td>2.398300e-02</td>\n",
       "      <td>2.680200e-02</td>\n",
       "      <td>2.143700e-02</td>\n",
       "      <td>2.389200e-02</td>\n",
       "      <td>4.278000e+03</td>\n",
       "      <td>5.227960e+05</td>\n",
       "      <td>0.432400</td>\n",
       "      <td>0.000000e+00</td>\n",
       "    </tr>\n",
       "    <tr>\n",
       "      <th>75%</th>\n",
       "      <td>1484.000000</td>\n",
       "      <td>2.268600e-01</td>\n",
       "      <td>2.508940e-01</td>\n",
       "      <td>2.043910e-01</td>\n",
       "      <td>2.259340e-01</td>\n",
       "      <td>1.190900e+05</td>\n",
       "      <td>6.874647e+06</td>\n",
       "      <td>0.745800</td>\n",
       "      <td>3.000000e-02</td>\n",
       "    </tr>\n",
       "    <tr>\n",
       "      <th>max</th>\n",
       "      <td>2072.000000</td>\n",
       "      <td>2.298390e+06</td>\n",
       "      <td>2.926100e+06</td>\n",
       "      <td>2.030590e+06</td>\n",
       "      <td>2.300740e+06</td>\n",
       "      <td>2.384090e+10</td>\n",
       "      <td>3.265020e+11</td>\n",
       "      <td>1.000000</td>\n",
       "      <td>1.770563e+06</td>\n",
       "    </tr>\n",
       "  </tbody>\n",
       "</table>\n",
       "</div>"
      ],
      "text/plain": [
       "             ranknow          open          high           low         close  \\\n",
       "count  942297.000000  9.422970e+05  9.422970e+05  9.422970e+05  9.422970e+05   \n",
       "mean     1000.170608  3.483522e+02  4.085930e+02  2.962526e+02  3.461018e+02   \n",
       "std       587.575283  1.318436e+04  1.616386e+04  1.092931e+04  1.309822e+04   \n",
       "min         1.000000  2.500000e-09  3.200000e-09  2.500000e-10  2.000000e-10   \n",
       "25%       465.000000  2.321000e-03  2.628000e-03  2.044000e-03  2.314000e-03   \n",
       "50%      1072.000000  2.398300e-02  2.680200e-02  2.143700e-02  2.389200e-02   \n",
       "75%      1484.000000  2.268600e-01  2.508940e-01  2.043910e-01  2.259340e-01   \n",
       "max      2072.000000  2.298390e+06  2.926100e+06  2.030590e+06  2.300740e+06   \n",
       "\n",
       "             volume        market    close_ratio        spread  \n",
       "count  9.422970e+05  9.422970e+05  942297.000000  9.422970e+05  \n",
       "mean   8.720390e+06  1.725060e+08       0.459499  1.123400e+02  \n",
       "std    1.839803e+08  3.575590e+09       0.326160  6.783713e+03  \n",
       "min    0.000000e+00  0.000000e+00      -1.000000  0.000000e+00  \n",
       "25%    1.750000e+02  2.958100e+04       0.162900  0.000000e+00  \n",
       "50%    4.278000e+03  5.227960e+05       0.432400  0.000000e+00  \n",
       "75%    1.190900e+05  6.874647e+06       0.745800  3.000000e-02  \n",
       "max    2.384090e+10  3.265020e+11       1.000000  1.770563e+06  "
      ]
     },
     "execution_count": 6,
     "metadata": {},
     "output_type": "execute_result"
    }
   ],
   "source": [
    "df.describe()#this gives statistical info"
   ]
  },
  {
   "cell_type": "code",
   "execution_count": 7,
   "id": "934660bd",
   "metadata": {},
   "outputs": [
    {
     "data": {
      "text/plain": [
       "array(['bitcoin', 'ripple', 'ethereum', ..., '42-coin', 'bit20',\n",
       "       'project-x'], dtype=object)"
      ]
     },
     "execution_count": 7,
     "metadata": {},
     "output_type": "execute_result"
    }
   ],
   "source": [
    "df['slug'].unique()#The values that are unique in the status id col, these values do not repeate"
   ]
  },
  {
   "cell_type": "code",
   "execution_count": 8,
   "id": "f411da16",
   "metadata": {},
   "outputs": [
    {
     "data": {
      "text/plain": [
       "2071"
      ]
     },
     "execution_count": 8,
     "metadata": {},
     "output_type": "execute_result"
    }
   ],
   "source": [
    "len(df['slug'].unique())#len will count the numbers of unique values"
   ]
  },
  {
   "cell_type": "code",
   "execution_count": 9,
   "id": "c7196373",
   "metadata": {},
   "outputs": [
    {
     "data": {
      "text/plain": [
       "array(['BTC', 'XRP', 'ETH', ..., '42', 'BTWTY', 'NANOX'], dtype=object)"
      ]
     },
     "execution_count": 9,
     "metadata": {},
     "output_type": "execute_result"
    }
   ],
   "source": [
    "df['symbol'].unique()#The values that are unique in the status id col, these values do not repeate"
   ]
  },
  {
   "cell_type": "code",
   "execution_count": 10,
   "id": "1887571a",
   "metadata": {},
   "outputs": [
    {
     "data": {
      "text/plain": [
       "2005"
      ]
     },
     "execution_count": 10,
     "metadata": {},
     "output_type": "execute_result"
    }
   ],
   "source": [
    "len(df['symbol'].unique())#len will count the numbers of unique values"
   ]
  },
  {
   "cell_type": "code",
   "execution_count": 11,
   "id": "0855d174",
   "metadata": {},
   "outputs": [
    {
     "data": {
      "text/plain": [
       "array(['Bitcoin', 'XRP', 'Ethereum', ..., '42-coin', 'Bit20', 'Project-X'],\n",
       "      dtype=object)"
      ]
     },
     "execution_count": 11,
     "metadata": {},
     "output_type": "execute_result"
    }
   ],
   "source": [
    "df['name'].unique()#The values that are unique in the status id col, these values do not repeate"
   ]
  },
  {
   "cell_type": "code",
   "execution_count": 12,
   "id": "ea52e979",
   "metadata": {},
   "outputs": [
    {
     "data": {
      "text/plain": [
       "2071"
      ]
     },
     "execution_count": 12,
     "metadata": {},
     "output_type": "execute_result"
    }
   ],
   "source": [
    "len(df['name'].unique())#len will count the numbers of unique values"
   ]
  },
  {
   "cell_type": "code",
   "execution_count": 13,
   "id": "436c0c8b",
   "metadata": {},
   "outputs": [
    {
     "data": {
      "text/plain": [
       "array([   1,    2,    3, ..., 2070, 2071, 2072])"
      ]
     },
     "execution_count": 13,
     "metadata": {},
     "output_type": "execute_result"
    }
   ],
   "source": [
    "df['ranknow'].unique()#The values that are unique in the status id col, these values do not repeate"
   ]
  },
  {
   "cell_type": "code",
   "execution_count": 14,
   "id": "b785d41e",
   "metadata": {},
   "outputs": [
    {
     "data": {
      "text/plain": [
       "2068"
      ]
     },
     "execution_count": 14,
     "metadata": {},
     "output_type": "execute_result"
    }
   ],
   "source": [
    "len(df['ranknow'].unique())"
   ]
  },
  {
   "cell_type": "code",
   "execution_count": 15,
   "id": "9edbed68",
   "metadata": {},
   "outputs": [
    {
     "data": {
      "text/plain": [
       "array([3.88000e+00, 1.34900e+01, 1.28800e+01, ..., 5.34700e+03,\n",
       "       3.12452e+03, 4.04607e+03])"
      ]
     },
     "execution_count": 15,
     "metadata": {},
     "output_type": "execute_result"
    }
   ],
   "source": [
    "df['spread'].unique()"
   ]
  },
  {
   "cell_type": "code",
   "execution_count": 16,
   "id": "bac6ab0b",
   "metadata": {},
   "outputs": [
    {
     "data": {
      "text/plain": [
       "12454"
      ]
     },
     "execution_count": 16,
     "metadata": {},
     "output_type": "execute_result"
    }
   ],
   "source": [
    "len(df['spread'].unique())"
   ]
  },
  {
   "cell_type": "code",
   "execution_count": 17,
   "id": "e9bf51ce",
   "metadata": {},
   "outputs": [],
   "source": [
    "df.drop(['slug','symbol','date','ranknow','close_ratio','market'], axis=1, inplace = True) #dropping data"
   ]
  },
  {
   "cell_type": "code",
   "execution_count": 18,
   "id": "45900944",
   "metadata": {},
   "outputs": [
    {
     "name": "stdout",
     "output_type": "stream",
     "text": [
      "<class 'pandas.core.frame.DataFrame'>\n",
      "RangeIndex: 942297 entries, 0 to 942296\n",
      "Data columns (total 7 columns):\n",
      " #   Column  Non-Null Count   Dtype  \n",
      "---  ------  --------------   -----  \n",
      " 0   name    942297 non-null  object \n",
      " 1   open    942297 non-null  float64\n",
      " 2   high    942297 non-null  float64\n",
      " 3   low     942297 non-null  float64\n",
      " 4   close   942297 non-null  float64\n",
      " 5   volume  942297 non-null  float64\n",
      " 6   spread  942297 non-null  float64\n",
      "dtypes: float64(6), object(1)\n",
      "memory usage: 50.3+ MB\n"
     ]
    }
   ],
   "source": [
    "df.info()#checking to see if colums were dropped"
   ]
  },
  {
   "cell_type": "code",
   "execution_count": 19,
   "id": "429796f0",
   "metadata": {},
   "outputs": [
    {
     "data": {
      "text/html": [
       "<div>\n",
       "<style scoped>\n",
       "    .dataframe tbody tr th:only-of-type {\n",
       "        vertical-align: middle;\n",
       "    }\n",
       "\n",
       "    .dataframe tbody tr th {\n",
       "        vertical-align: top;\n",
       "    }\n",
       "\n",
       "    .dataframe thead th {\n",
       "        text-align: right;\n",
       "    }\n",
       "</style>\n",
       "<table border=\"1\" class=\"dataframe\">\n",
       "  <thead>\n",
       "    <tr style=\"text-align: right;\">\n",
       "      <th></th>\n",
       "      <th>name</th>\n",
       "      <th>open</th>\n",
       "      <th>high</th>\n",
       "      <th>low</th>\n",
       "      <th>close</th>\n",
       "      <th>volume</th>\n",
       "      <th>spread</th>\n",
       "    </tr>\n",
       "  </thead>\n",
       "  <tbody>\n",
       "    <tr>\n",
       "      <th>0</th>\n",
       "      <td>Bitcoin</td>\n",
       "      <td>135.30</td>\n",
       "      <td>135.98</td>\n",
       "      <td>132.10</td>\n",
       "      <td>134.21</td>\n",
       "      <td>0.0</td>\n",
       "      <td>3.88</td>\n",
       "    </tr>\n",
       "    <tr>\n",
       "      <th>1</th>\n",
       "      <td>Bitcoin</td>\n",
       "      <td>134.44</td>\n",
       "      <td>147.49</td>\n",
       "      <td>134.00</td>\n",
       "      <td>144.54</td>\n",
       "      <td>0.0</td>\n",
       "      <td>13.49</td>\n",
       "    </tr>\n",
       "    <tr>\n",
       "      <th>2</th>\n",
       "      <td>Bitcoin</td>\n",
       "      <td>144.00</td>\n",
       "      <td>146.93</td>\n",
       "      <td>134.05</td>\n",
       "      <td>139.00</td>\n",
       "      <td>0.0</td>\n",
       "      <td>12.88</td>\n",
       "    </tr>\n",
       "    <tr>\n",
       "      <th>3</th>\n",
       "      <td>Bitcoin</td>\n",
       "      <td>139.00</td>\n",
       "      <td>139.89</td>\n",
       "      <td>107.72</td>\n",
       "      <td>116.99</td>\n",
       "      <td>0.0</td>\n",
       "      <td>32.17</td>\n",
       "    </tr>\n",
       "    <tr>\n",
       "      <th>4</th>\n",
       "      <td>Bitcoin</td>\n",
       "      <td>116.38</td>\n",
       "      <td>125.60</td>\n",
       "      <td>92.28</td>\n",
       "      <td>105.21</td>\n",
       "      <td>0.0</td>\n",
       "      <td>33.32</td>\n",
       "    </tr>\n",
       "  </tbody>\n",
       "</table>\n",
       "</div>"
      ],
      "text/plain": [
       "      name    open    high     low   close  volume  spread\n",
       "0  Bitcoin  135.30  135.98  132.10  134.21     0.0    3.88\n",
       "1  Bitcoin  134.44  147.49  134.00  144.54     0.0   13.49\n",
       "2  Bitcoin  144.00  146.93  134.05  139.00     0.0   12.88\n",
       "3  Bitcoin  139.00  139.89  107.72  116.99     0.0   32.17\n",
       "4  Bitcoin  116.38  125.60   92.28  105.21     0.0   33.32"
      ]
     },
     "execution_count": 19,
     "metadata": {},
     "output_type": "execute_result"
    }
   ],
   "source": [
    "df.head()#checking rows/colums"
   ]
  },
  {
   "cell_type": "code",
   "execution_count": 20,
   "id": "69ee4fcf",
   "metadata": {},
   "outputs": [],
   "source": [
    "x = df# the rest of the variable, except the target\n",
    "y = df['name'] #target variable"
   ]
  },
  {
   "cell_type": "code",
   "execution_count": 21,
   "id": "a47e98c1",
   "metadata": {},
   "outputs": [],
   "source": [
    "le = LabelEncoder()\n",
    "x['name'] = le.fit_transform(x['name']) #label encoding names so they have numeric value\n",
    "y = le.transform(y)"
   ]
  },
  {
   "cell_type": "code",
   "execution_count": 22,
   "id": "fd4710aa",
   "metadata": {},
   "outputs": [
    {
     "name": "stdout",
     "output_type": "stream",
     "text": [
      "<class 'pandas.core.frame.DataFrame'>\n",
      "RangeIndex: 942297 entries, 0 to 942296\n",
      "Data columns (total 7 columns):\n",
      " #   Column  Non-Null Count   Dtype  \n",
      "---  ------  --------------   -----  \n",
      " 0   name    942297 non-null  int64  \n",
      " 1   open    942297 non-null  float64\n",
      " 2   high    942297 non-null  float64\n",
      " 3   low     942297 non-null  float64\n",
      " 4   close   942297 non-null  float64\n",
      " 5   volume  942297 non-null  float64\n",
      " 6   spread  942297 non-null  float64\n",
      "dtypes: float64(6), int64(1)\n",
      "memory usage: 50.3 MB\n"
     ]
    }
   ],
   "source": [
    "x.info()"
   ]
  },
  {
   "cell_type": "code",
   "execution_count": 23,
   "id": "a06ec6a1",
   "metadata": {},
   "outputs": [
    {
     "data": {
      "text/html": [
       "<div>\n",
       "<style scoped>\n",
       "    .dataframe tbody tr th:only-of-type {\n",
       "        vertical-align: middle;\n",
       "    }\n",
       "\n",
       "    .dataframe tbody tr th {\n",
       "        vertical-align: top;\n",
       "    }\n",
       "\n",
       "    .dataframe thead th {\n",
       "        text-align: right;\n",
       "    }\n",
       "</style>\n",
       "<table border=\"1\" class=\"dataframe\">\n",
       "  <thead>\n",
       "    <tr style=\"text-align: right;\">\n",
       "      <th></th>\n",
       "      <th>name</th>\n",
       "      <th>open</th>\n",
       "      <th>high</th>\n",
       "      <th>low</th>\n",
       "      <th>close</th>\n",
       "      <th>volume</th>\n",
       "      <th>spread</th>\n",
       "    </tr>\n",
       "  </thead>\n",
       "  <tbody>\n",
       "    <tr>\n",
       "      <th>0</th>\n",
       "      <td>231</td>\n",
       "      <td>135.30</td>\n",
       "      <td>135.98</td>\n",
       "      <td>132.10</td>\n",
       "      <td>134.21</td>\n",
       "      <td>0.0</td>\n",
       "      <td>3.88</td>\n",
       "    </tr>\n",
       "    <tr>\n",
       "      <th>1</th>\n",
       "      <td>231</td>\n",
       "      <td>134.44</td>\n",
       "      <td>147.49</td>\n",
       "      <td>134.00</td>\n",
       "      <td>144.54</td>\n",
       "      <td>0.0</td>\n",
       "      <td>13.49</td>\n",
       "    </tr>\n",
       "    <tr>\n",
       "      <th>2</th>\n",
       "      <td>231</td>\n",
       "      <td>144.00</td>\n",
       "      <td>146.93</td>\n",
       "      <td>134.05</td>\n",
       "      <td>139.00</td>\n",
       "      <td>0.0</td>\n",
       "      <td>12.88</td>\n",
       "    </tr>\n",
       "    <tr>\n",
       "      <th>3</th>\n",
       "      <td>231</td>\n",
       "      <td>139.00</td>\n",
       "      <td>139.89</td>\n",
       "      <td>107.72</td>\n",
       "      <td>116.99</td>\n",
       "      <td>0.0</td>\n",
       "      <td>32.17</td>\n",
       "    </tr>\n",
       "    <tr>\n",
       "      <th>4</th>\n",
       "      <td>231</td>\n",
       "      <td>116.38</td>\n",
       "      <td>125.60</td>\n",
       "      <td>92.28</td>\n",
       "      <td>105.21</td>\n",
       "      <td>0.0</td>\n",
       "      <td>33.32</td>\n",
       "    </tr>\n",
       "  </tbody>\n",
       "</table>\n",
       "</div>"
      ],
      "text/plain": [
       "   name    open    high     low   close  volume  spread\n",
       "0   231  135.30  135.98  132.10  134.21     0.0    3.88\n",
       "1   231  134.44  147.49  134.00  144.54     0.0   13.49\n",
       "2   231  144.00  146.93  134.05  139.00     0.0   12.88\n",
       "3   231  139.00  139.89  107.72  116.99     0.0   32.17\n",
       "4   231  116.38  125.60   92.28  105.21     0.0   33.32"
      ]
     },
     "execution_count": 23,
     "metadata": {},
     "output_type": "execute_result"
    }
   ],
   "source": [
    "x.head()"
   ]
  },
  {
   "cell_type": "code",
   "execution_count": 24,
   "id": "32a31d70",
   "metadata": {},
   "outputs": [
    {
     "data": {
      "text/plain": [
       "Index(['name', 'open', 'high', 'low', 'close', 'volume', 'spread'], dtype='object')"
      ]
     },
     "execution_count": 24,
     "metadata": {},
     "output_type": "execute_result"
    }
   ],
   "source": [
    "x.columns"
   ]
  },
  {
   "cell_type": "code",
   "execution_count": null,
   "id": "6cbaff44",
   "metadata": {},
   "outputs": [],
   "source": []
  },
  {
   "cell_type": "code",
   "execution_count": null,
   "id": "8ec1cf63",
   "metadata": {},
   "outputs": [],
   "source": []
  }
 ],
 "metadata": {
  "kernelspec": {
   "display_name": "Python 3 (ipykernel)",
   "language": "python",
   "name": "python3"
  },
  "language_info": {
   "codemirror_mode": {
    "name": "ipython",
    "version": 3
   },
   "file_extension": ".py",
   "mimetype": "text/x-python",
   "name": "python",
   "nbconvert_exporter": "python",
   "pygments_lexer": "ipython3",
   "version": "3.9.7"
  }
 },
 "nbformat": 4,
 "nbformat_minor": 5
}
